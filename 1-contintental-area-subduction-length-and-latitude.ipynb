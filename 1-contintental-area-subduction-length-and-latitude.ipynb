{
 "cells": [
  {
   "cell_type": "code",
   "execution_count": 1,
   "metadata": {},
   "outputs": [],
   "source": [
    "import sys\n",
    "sys.path.insert(1, '/Users/andrew/Documents/python/pygplates_rev28_python37_MacOS64')\n",
    "sys.path.insert(1, '/Users/andrew/Documents/GitHub/GPlatesReconstructionModel')\n",
    "\n",
    "import pygplates\n",
    "import gprm\n",
    "from gprm.utils import create_gpml\n",
    "import numpy as np\n",
    "import healpy\n",
    "import matplotlib.pyplot as plt\n",
    "import matplotlib as mpl\n",
    "mpl.rcParams['pdf.fonttype'] = 42\n",
    "%matplotlib inline"
   ]
  },
  {
   "cell_type": "code",
   "execution_count": 2,
   "metadata": {},
   "outputs": [],
   "source": [
    "#setbasedir for loading reconstruction files\n",
    "\n",
    "rotation_model = pygplates.RotationModel('./data/1000_0_rotfile_Merdith_et_al.rot')\n",
    "polygons = pygplates.FeatureCollection('./data/shapes_continents_Merdith_et_al.gpml')\n",
    "topology_features = ['./data/1000-410-Convergence_Merdith_et_al.gpml',\n",
    "                     './data/1000-410-Divergence_Merdith_et_al.gpml',\n",
    "                     './data/1000-410-Topologies_Merdith_et_al.gpml',\n",
    "                     './data/1000-410-Transforms_Merdith_et_al.gpml']"
   ]
  },
  {
   "cell_type": "code",
   "execution_count": 3,
   "metadata": {},
   "outputs": [
    {
     "name": "stdout",
     "output_type": "stream",
     "text": [
      "number of points 768\n",
      "surface area of the earth 510064471.90978825\n",
      "area per point 664146.4477992035\n"
     ]
    }
   ],
   "source": [
    "#set up some parameters for our analysis\n",
    "#we need to know what area of the earth each point covers!\n",
    "\n",
    "#create equal area mesh\n",
    "latlon_array = []\n",
    "latlon_mesh = create_gpml.create_gpml_healpix_mesh(8)\n",
    "for i in latlon_mesh:\n",
    "    for point in i.get_geometry():\n",
    "        latlon_array.append(point.to_lat_lon())\n",
    "        \n",
    "#we want to bin data into 5° latitudes\n",
    "#set up bins and how much area each point covers here\n",
    "\n",
    "#create bins\n",
    "bins = np.linspace(-90,90,int(185/5))\n",
    "\n",
    "#area covered by each point\n",
    "number_of_points = len(latlon_array)\n",
    "print( 'number of points', len(latlon_array))\n",
    "\n",
    "#surface area of the earth\n",
    "r = 6371\n",
    "surface_area = 4 * np.pi * r ** 2\n",
    "print( 'surface area of the earth', surface_area)\n",
    "\n",
    "area_per_point = surface_area/number_of_points\n",
    "\n",
    "print( 'area per point', area_per_point)\n"
   ]
  },
  {
   "cell_type": "code",
   "execution_count": 4,
   "metadata": {},
   "outputs": [],
   "source": [
    "#set time range\n",
    "times=np.arange(520,1010,10)\n",
    "\n",
    "#createsan array of lat/lons for our mesh which we use to query the amount of continental mass at each point\n",
    "latlon_array = []\n",
    "for i in latlon_mesh:\n",
    "    for point in i.get_geometry():\n",
    "        latlon_array.append(point.to_lat_lon())"
   ]
  },
  {
   "cell_type": "code",
   "execution_count": 5,
   "metadata": {
    "scrolled": true
   },
   "outputs": [
    {
     "name": "stdout",
     "output_type": "stream",
     "text": [
      "520\n",
      "530\n",
      "540\n",
      "550\n",
      "560\n",
      "570\n",
      "580\n",
      "590\n",
      "600\n",
      "610\n",
      "620\n",
      "630\n",
      "640\n",
      "650\n",
      "660\n",
      "670\n",
      "680\n",
      "690\n",
      "700\n",
      "710\n",
      "720\n",
      "730\n",
      "740\n",
      "750\n",
      "760\n",
      "770\n",
      "780\n",
      "790\n",
      "800\n",
      "810\n",
      "820\n",
      "830\n",
      "840\n",
      "850\n",
      "860\n",
      "870\n",
      "880\n",
      "890\n",
      "900\n",
      "910\n",
      "920\n",
      "930\n",
      "940\n",
      "950\n",
      "960\n",
      "970\n",
      "980\n",
      "990\n",
      "1000\n"
     ]
    }
   ],
   "source": [
    "#we're going to grab subducton zone length as well as continental area\n",
    "#(if you have convergence rate you could get sub area per lat)\n",
    "\n",
    "#final results\n",
    "subduction_latitude_length = []\n",
    "continental_latitude_area = []\n",
    "\n",
    "for time in times:\n",
    "    print(time)\n",
    "    #create empty lists and arrays for storing temperorary (within a timestep) results\n",
    "    tmp_sub_lat_length = np.zeros(len(bins)-1,)\n",
    "    tmp_lat_points = []\n",
    "    \n",
    "    #reconstruct and resolve continents and plate boundaries\n",
    "    reconstructed_features = []\n",
    "    resolved_topologies = []\n",
    "    shared_boundary_sections = []\n",
    "\n",
    "    pygplates.reconstruct(polygons, rotation_model, reconstructed_features, int(time))\n",
    "    pygplates.resolve_topologies(topology_features, rotation_model, resolved_topologies, int(time), shared_boundary_sections)\n",
    "\n",
    "    #we have to loop through the topologies\n",
    "    for shared_boundary_section in shared_boundary_sections:\n",
    "        #we only want subduction zones\n",
    "        if shared_boundary_section.get_feature().get_feature_type() == pygplates.FeatureType.gpml_subduction_zone:\n",
    "            #and just the segments that contribute to the topologies\n",
    "            for shared_sub_segment in shared_boundary_section.get_shared_sub_segments():\n",
    "                #tessellate them to n radians so we can fit them to latitude bins\n",
    "                tessellated_shared_sub_segment_polyline = (\n",
    "                    shared_sub_segment.get_resolved_geometry().to_tessellated(np.radians(1)))\n",
    "                \n",
    "                #we want the midpoints of the segments, to see what latitude they sit in\n",
    "                #and also the lengths of the arcs so we know how much is there\n",
    "                tmp_arc_lat_midpoints = []\n",
    "                tmp_arc_lengths = []\n",
    "                \n",
    "                #loop through arcs\n",
    "                for arc in tessellated_shared_sub_segment_polyline.get_segments():\n",
    "                    if not arc.is_zero_length():\n",
    "                        tmp_arc_lengths.append(arc.get_arc_length())\n",
    "                        tmp_arc_lat_midpoints.append(arc.get_arc_point(0.5).to_lat_lon_array()[:,0])\n",
    "                        #we just use the mean tessellation length for ease and quickness\n",
    "                        #this makes it an estimate and not an exact measure (but pretty close)\n",
    "                        tessellation_length_kms = np.mean(tmp_arc_lengths) * pygplates.Earth.mean_radius_in_kms\n",
    "                        #get a histogram of the data\n",
    "                        tmp_sub_data = np.histogram(tmp_arc_lat_midpoints, bins)        \n",
    "                        tmp_sub_length = tmp_sub_data[0] * tessellation_length_kms\n",
    "                tmp_sub_lat_length += tmp_sub_length\n",
    "                \n",
    "    subduction_latitude_length.append(tmp_sub_lat_length)\n",
    "    \n",
    "    #now for continental mass, simpler code but takes longer to run (cos there's a point in polygon test)\n",
    "    #we loop through our meshgrid and if a node is in a polygon we store the latitude value of that node\n",
    "    #then we can make a histogram again\n",
    "    for poly in reconstructed_features:\n",
    "        poly_geom = poly.get_reconstructed_geometry()\n",
    "        for i in latlon_array:\n",
    "            if poly_geom.is_point_in_polygon(i):\n",
    "                tmp_lat_points.append(i[0])\n",
    "    tmp_cont_data = np.histogram(tmp_lat_points, bins)\n",
    "    tmp_cont_area = tmp_cont_data[0] * area_per_point\n",
    "    continental_latitude_area.append(tmp_cont_area)  \n",
    "    \n",
    "    "
   ]
  },
  {
   "cell_type": "code",
   "execution_count": null,
   "metadata": {},
   "outputs": [],
   "source": []
  },
  {
   "cell_type": "code",
   "execution_count": 6,
   "metadata": {},
   "outputs": [],
   "source": [
    "#turn into an array so we can plot it as a heatmap\n",
    "continental_latitude_area_array = np.stack(continental_latitude_area, axis=0 )\n",
    "subduction_latitude_length_array = np.stack(subduction_latitude_length, axis=0 )\n",
    "\n",
    "#save data as a csv if you want\n",
    "#np.savetxt('./results/cont_area_vs_lat.csv', \n",
    "#           continental_latitude_area_array, \n",
    "#           delimiter=',')"
   ]
  },
  {
   "cell_type": "code",
   "execution_count": 7,
   "metadata": {},
   "outputs": [
    {
     "name": "stderr",
     "output_type": "stream",
     "text": [
      "/Users/andrew/miniconda3/envs/pygmt/lib/python3.7/site-packages/ipykernel_launcher.py:12: UserWarning: This figure includes Axes that are not compatible with tight_layout, so results might be incorrect.\n",
      "  if sys.path[0] == '':\n"
     ]
    },
    {
     "data": {
      "image/png": "[encoded data removed]",
      "text/plain": [
       "<Figure size 864x432 with 2 Axes>"
      ]
     },
     "metadata": {},
     "output_type": "display_data"
    }
   ],
   "source": [
    "cm = plt.get_cmap('viridis')\n",
    "fig, ax = plt.subplots(nrows=1, ncols=1, figsize=(12,6),facecolor='w', edgecolor='k')\n",
    "\n",
    "#we have to transpose the array because it's around the wrong way\n",
    "plot = ax.imshow(continental_latitude_area_array.T, origin='lower', extent=[520,1000,-90,90], cmap=cm, interpolation='None')\n",
    "cax = fig.add_axes([0.1, 0, 0.8, 0.05])\n",
    "cbar = fig.colorbar(plot, cax=cax, orientation='horizontal')\n",
    "cbar.set_label('Continental Area (km2)')\n",
    "ax.set_xlim(1000,520)\n",
    "ax.set_xlabel('Time (Ma)')\n",
    "ax.set_ylabel('Latitude')\n",
    "plt.tight_layout()"
   ]
  },
  {
   "cell_type": "code",
   "execution_count": 8,
   "metadata": {},
   "outputs": [
    {
     "name": "stderr",
     "output_type": "stream",
     "text": [
      "/Users/andrew/miniconda3/envs/pygmt/lib/python3.7/site-packages/ipykernel_launcher.py:12: UserWarning: This figure includes Axes that are not compatible with tight_layout, so results might be incorrect.\n",
      "  if sys.path[0] == '':\n"
     ]
    },
    {
     "data": {
      "image/png": "[encoded data removed]",
      "text/plain": [
       "<Figure size 864x432 with 2 Axes>"
      ]
     },
     "metadata": {},
     "output_type": "display_data"
    }
   ],
   "source": [
    "cm = plt.get_cmap('viridis')\n",
    "fig, ax = plt.subplots(nrows=1, ncols=1, figsize=(12,6),facecolor='w', edgecolor='k')\n",
    "\n",
    "#we have to transpose the array because it's around the wrong way\n",
    "plot = ax.imshow(subduction_latitude_length_array.T, origin='lower', extent=[520,1000,-90,90], cmap=cm, interpolation='None')\n",
    "cax = fig.add_axes([0.1, 0, 0.8, 0.05])\n",
    "cbar = fig.colorbar(plot, cax=cax, orientation='horizontal')\n",
    "cbar.set_label('Subduction Length (km)')\n",
    "ax.set_xlim(1000,520)\n",
    "ax.set_xlabel('Time (Ma)')\n",
    "ax.set_ylabel('Latitude')\n",
    "plt.tight_layout()"
   ]
  },
  {
   "cell_type": "code",
   "execution_count": null,
   "metadata": {},
   "outputs": [],
   "source": []
  }
 ],
 "metadata": {
  "kernelspec": {
   "display_name": "Python 3 (ipykernel)",
   "language": "python",
   "name": "python3"
  },
  "language_info": {
   "codemirror_mode": {
    "name": "ipython",
    "version": 3
   },
   "file_extension": ".py",
   "mimetype": "text/x-python",
   "name": "python",
   "nbconvert_exporter": "python",
   "pygments_lexer": "ipython3",
   "version": "3.7.12"
  }
 },
 "nbformat": 4,
 "nbformat_minor": 1
}
